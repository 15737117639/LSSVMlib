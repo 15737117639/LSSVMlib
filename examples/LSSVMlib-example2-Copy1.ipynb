{
 "cells": [
  {
   "cell_type": "markdown",
   "metadata": {},
   "source": [
    "# Example 2#\n",
    "\n",
    "Tuning the hyper-parameters of LS-SVM regression models using the scikit-learn GridsearchCV function.\n",
    "The synthetic data used for this purpose is the 1D Sinc function."
   ]
  },
  {
   "cell_type": "code",
   "execution_count": 1,
   "metadata": {},
   "outputs": [],
   "source": [
    "#Some imports\n",
    "import matplotlib.pyplot as plt\n",
    "import numpy as np\n",
    "from sklearn.metrics import mean_squared_error, r2_score\n",
    "\n",
    "from LSSVMRegression import LSSVMRegression"
   ]
  },
  {
   "cell_type": "code",
   "execution_count": 2,
   "metadata": {},
   "outputs": [],
   "source": [
    "#Generating the synthetic data\n",
    "x=np.array([np.random.uniform(low=-5,high=5,size=10)]).T\n",
    "#array([[0,1,2,3]]).T  #create a column vector of 1 feature, 4 samples\n",
    "y=np.sinc(x).ravel()  #create the associated targets, needs to be a 1D array\n",
    "ndata=x.shape[0]           #keep track of the number of rows\n",
    "\n",
    "#print(\"x=\",x,\",\\nx-dim=\",x.ndim)\n",
    "#print(\"y=\",y,\"\\ny-dim=\",y.ndim)"
   ]
  },
  {
   "cell_type": "code",
   "execution_count": 34,
   "metadata": {},
   "outputs": [
    {
     "name": "stdout",
     "output_type": "stream",
     "text": [
      "b =  0.13648392571666296\n",
      "a_i =  [-0.14583382 -0.49984568  2.23610396 -3.16706402 -3.28915643  1.93819891\n",
      " -0.80041643  0.36446155  0.94245121  2.42110074]\n"
     ]
    }
   ],
   "source": [
    "#rbf-model\n",
    "clfrbf=LSSVMRegression(\n",
    "        gamma=100,       #set the gamma-hyper parameter equal to 1\n",
    "        kernel='rbf', #use the linear kernel\n",
    "        sigma=1.0,\n",
    "        c=1000,\n",
    "        d=20,\n",
    "            )\n",
    "clfrbf.fit(x,y) # train our model, aka solve the set of linear equations\n",
    "print(\"b = \",clfrbf.intercept_)\n",
    "print(\"a_i = \",clfrbf.coef_)\n"
   ]
  },
  {
   "cell_type": "code",
   "execution_count": 35,
   "metadata": {},
   "outputs": [
    {
     "name": "stdout",
     "output_type": "stream",
     "text": [
      "Yexact= [3.89817183e-17 1.00095984e-03 2.00367839e-03 ... 2.00367839e-03\n",
      " 1.00095984e-03 3.89817183e-17]\n",
      "Ypred= [0.19366371 0.19290831 0.1921429  ... 0.0435799  0.04375872 0.0439407 ]\n",
      "Mean squared error: 0.02\n",
      "Coefficient of determination: 0.76\n"
     ]
    },
    {
     "data": {
      "image/png": "[encoded data removed]",
      "text/plain": [
       "<Figure size 432x288 with 1 Axes>"
      ]
     },
     "metadata": {
      "needs_background": "light"
     },
     "output_type": "display_data"
    }
   ],
   "source": [
    "#generate a dens mesh\n",
    "xmin=-5\n",
    "xmax=5\n",
    "xPred=np.linspace((xmin,),(xmax,),2001)\n",
    "yExact=np.sinc(xPred).ravel()\n",
    "# and predict\n",
    "yPred=clfrbf.predict(xPred)\n",
    "\n",
    "print(\"Yexact=\",yExact)\n",
    "print(\"Ypred=\",yPred)\n",
    "\n",
    "# The mean squared error\n",
    "print('Mean squared error: %.2f' % mean_squared_error(yExact, yPred))\n",
    "# The coefficient of determination: 1 is perfect prediction\n",
    "print('Coefficient of determination: %.2f' % r2_score(yExact, yPred))\n",
    "# Plot outputs\n",
    "plt.scatter(x, y,  color='black')\n",
    "plt.plot(xPred, yExact,  color='black',linewidth=1)\n",
    "plt.plot(xPred, yPred,   color='red'  ,linewidth=1)\n",
    "\n",
    "plt.axis([xmin,xmax,-1,2])\n",
    "step=(xmax-xmin)/11.0\n",
    "Xlst=list()\n",
    "for a in np.arange(xmin,xmax,step):\n",
    "    Xlst.append(a)\n",
    "plt.xticks(Xlst,rotation=45)\n",
    "#plt.xticks([-8,-7,-6,-5,-4,-3,-2,-1,0,1,2,3,4,5,6,7,8])\n",
    "plt.yticks([-1,-0.5,0,0.5,1.0,1.5,2.0])\n",
    "plt.xlabel(\"feature x\")\n",
    "plt.ylabel(\"target y\")\n",
    "\n",
    "plt.show()"
   ]
  },
  {
   "cell_type": "code",
   "execution_count": null,
   "metadata": {},
   "outputs": [],
   "source": []
  },
  {
   "cell_type": "code",
   "execution_count": null,
   "metadata": {},
   "outputs": [],
   "source": []
  },
  {
   "cell_type": "code",
   "execution_count": null,
   "metadata": {},
   "outputs": [],
   "source": []
  }
 ],
 "metadata": {
  "kernelspec": {
   "display_name": "Python 3",
   "language": "python",
   "name": "python3"
  },
  "language_info": {
   "codemirror_mode": {
    "name": "ipython",
    "version": 3
   },
   "file_extension": ".py",
   "mimetype": "text/x-python",
   "name": "python",
   "nbconvert_exporter": "python",
   "pygments_lexer": "ipython3",
   "version": "3.7.7"
  }
 },
 "nbformat": 4,
 "nbformat_minor": 4
}
