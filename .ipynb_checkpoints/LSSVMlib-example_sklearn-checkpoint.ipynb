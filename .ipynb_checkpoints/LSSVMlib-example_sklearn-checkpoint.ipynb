{
 "cells": [
  {
   "cell_type": "markdown",
   "metadata": {},
   "source": [
    "# LSSVMlib Examples using scikit-learn #\n",
    "\n",
    "A simple **regression** example presenting the use of LSSVMlib in combination with the scikit-learn library.\n"
   ]
  },
  {
   "cell_type": "markdown",
   "metadata": {},
   "source": [
    "## Example 1: Regression of a 1D dataset ##\n",
    "A trivial example dealing with a dataset representing y=x². "
   ]
  },
  {
   "cell_type": "code",
   "execution_count": 1,
   "metadata": {},
   "outputs": [],
   "source": [
    "#Some imports\n",
    "import matplotlib.pyplot as plt\n",
    "import numpy as np\n",
    "from sklearn.metrics import mean_squared_error, r2_score\n",
    "\n",
    "from LSSVMRegression import LSSVMRegression"
   ]
  },
  {
   "cell_type": "markdown",
   "metadata": {},
   "source": [
    "The data needed for modeling is generated as numpy nd-arrays. The LSSVMRegression estimator checks if the features are provided as a 2D array, while the targets are presented as a 1D array. Failing to do so will raise an error."
   ]
  },
  {
   "cell_type": "code",
   "execution_count": 2,
   "metadata": {},
   "outputs": [],
   "source": [
    "x=np.array([[0,1,2,3]]).T  #create a column vector of 1 feature, 4 samples\n",
    "y=(x*x).ravel()            #create the associated targets, needs to be a 1D array\n",
    "ndata=x.shape[0]           #keep track of the number of rows\n",
    "\n",
    "#print(\"x=\",x,\",\\nx-dim=\",x.ndim)\n",
    "#print(\"y=\",y,\"\\ny-dim=\",y.ndim)"
   ]
  },
  {
   "cell_type": "markdown",
   "metadata": {},
   "source": [
    "The regression model is created, making use of the usual scikit-learn coding pattern."
   ]
  },
  {
   "cell_type": "code",
   "execution_count": 40,
   "metadata": {},
   "outputs": [
    {
     "name": "stdout",
     "output_type": "stream",
     "text": [
      "b =  4.016004552939755\n",
      "a_i =  [-4.39293879  1.70351971 -5.17000126  7.85942034]\n"
     ]
    }
   ],
   "source": [
    "clf=LSSVMRegression(\n",
    "        gamma=100.0,       #set the gamma-hyper parameter equal to 1\n",
    "        kernel='rbf', #use the linear kernel\n",
    "            )\n",
    "clf.fit(x,y) # train our model, aka solve the set of linear equations\n",
    "print(\"b = \",clf.intercept_)\n",
    "print(\"a_i = \",clf.coef_)\n"
   ]
  },
  {
   "cell_type": "markdown",
   "metadata": {},
   "source": [
    "With the parameters trained, the model is ready to perform some predictions. "
   ]
  },
  {
   "cell_type": "code",
   "execution_count": 41,
   "metadata": {},
   "outputs": [
    {
     "name": "stdout",
     "output_type": "stream",
     "text": [
      "Mean squared error: 4.13\n",
      "Coefficient of determination: 0.82\n"
     ]
    },
    {
     "data": {
      "image/png": "[encoded data removed]",
      "text/plain": [
       "<Figure size 432x288 with 1 Axes>"
      ]
     },
     "metadata": {
      "needs_background": "light"
     },
     "output_type": "display_data"
    }
   ],
   "source": [
    "#generate a dens mesh\n",
    "xPred=np.linspace((0,),(4,),401)\n",
    "yExact=xPred**2\n",
    "# and predict\n",
    "yPred=clf.predict(xPred)\n",
    "\n",
    "\n",
    "# The mean squared error\n",
    "print('Mean squared error: %.2f' % mean_squared_error(yExact, yPred))\n",
    "# The coefficient of determination: 1 is perfect prediction\n",
    "print('Coefficient of determination: %.2f' % r2_score(yExact, yPred))\n",
    "# Plot outputs\n",
    "plt.scatter(x, y,  color='black')\n",
    "plt.plot(xPred, yExact,  color='black',linewidth=1)\n",
    "plt.plot(xPred, yPred,   color='red'  ,linewidth=1)\n",
    "\n",
    "plt.axis([0,4,0,20])\n",
    "plt.xticks([0,1,2,3,4])\n",
    "plt.yticks([0,5,10,15,20])\n",
    "plt.xlabel(\"feature x\")\n",
    "plt.ylabel(\"target y\")\n",
    "\n",
    "plt.show()"
   ]
  },
  {
   "cell_type": "code",
   "execution_count": null,
   "metadata": {},
   "outputs": [],
   "source": []
  }
 ],
 "metadata": {
  "kernelspec": {
   "display_name": "Python 3",
   "language": "python",
   "name": "python3"
  },
  "language_info": {
   "codemirror_mode": {
    "name": "ipython",
    "version": 3
   },
   "file_extension": ".py",
   "mimetype": "text/x-python",
   "name": "python",
   "nbconvert_exporter": "python",
   "pygments_lexer": "ipython3",
   "version": "3.7.7"
  }
 },
 "nbformat": 4,
 "nbformat_minor": 4
}
