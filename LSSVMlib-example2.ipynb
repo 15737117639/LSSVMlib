{
 "cells": [
  {
   "cell_type": "markdown",
   "metadata": {},
   "source": [
    "# Example 2#\n",
    "\n",
    "Tuning the hyper-parameters of LS-SVM regression models using the scikit-learn GridsearchCV function.\n",
    "The synthetic data used for this purpose is the 1D Sinc function."
   ]
  },
  {
   "cell_type": "code",
   "execution_count": 76,
   "metadata": {},
   "outputs": [],
   "source": [
    "#Some imports\n",
    "import matplotlib.pyplot as plt\n",
    "import numpy as np\n",
    "from sklearn.metrics import mean_squared_error, r2_score\n",
    "\n",
    "from LSSVMRegression import LSSVMRegression"
   ]
  },
  {
   "cell_type": "code",
   "execution_count": 77,
   "metadata": {},
   "outputs": [],
   "source": [
    "#Generating the synthetic data\n",
    "x=np.array([np.random.uniform(low=-5,high=5,size=10)]).T\n",
    "#array([[0,1,2,3]]).T  #create a column vector of 1 feature, 4 samples\n",
    "y=np.sinc(x).ravel()  #create the associated targets, needs to be a 1D array\n",
    "ndata=x.shape[0]           #keep track of the number of rows\n",
    "\n",
    "#print(\"x=\",x,\",\\nx-dim=\",x.ndim)\n",
    "#print(\"y=\",y,\"\\ny-dim=\",y.ndim)"
   ]
  },
  {
   "cell_type": "code",
   "execution_count": 78,
   "metadata": {},
   "outputs": [
    {
     "name": "stdout",
     "output_type": "stream",
     "text": [
      "b =  -0.05347129192283934\n",
      "a_i =  [-24.4212113   -2.22187009   7.20853221   4.3088816   10.34739385\n",
      "   0.09668857   0.8967473   -0.31579457  -5.14465252   9.24528495]\n"
     ]
    }
   ],
   "source": [
    "#rbf-model\n",
    "clfrbf=LSSVMRegression(\n",
    "        gamma=100,       #set the gamma-hyper parameter equal to 1\n",
    "        kernel='rbf', #use the linear kernel\n",
    "        sigma=10.0,\n",
    "        c=1000,\n",
    "        d=20,\n",
    "            )\n",
    "clfrbf.fit(x,y) # train our model, aka solve the set of linear equations\n",
    "print(\"b = \",clfrbf.intercept_)\n",
    "print(\"a_i = \",clfrbf.coef_)\n"
   ]
  },
  {
   "cell_type": "code",
   "execution_count": 79,
   "metadata": {},
   "outputs": [
    {
     "name": "stdout",
     "output_type": "stream",
     "text": [
      "Yexact= [-3.89817183e-17 -1.00083635e-03 -2.00268969e-03 ... -2.00268969e-03\n",
      " -1.00083635e-03 -3.89817183e-17]\n",
      "Ypred= [-0.03779475 -0.03761368 -0.03743258 ... -0.06236879 -0.06245526\n",
      " -0.06254153]\n",
      "Mean squared error: 0.05\n",
      "Coefficient of determination: 0.04\n"
     ]
    },
    {
     "data": {
      "image/png": "[encoded data removed]",
      "text/plain": [
       "<Figure size 432x288 with 1 Axes>"
      ]
     },
     "metadata": {
      "needs_background": "light"
     },
     "output_type": "display_data"
    }
   ],
   "source": [
    "#generate a dens mesh\n",
    "xPred=np.linspace((-10,),(10,),2001)\n",
    "yExact=np.sinc(xPred).ravel()\n",
    "# and predict\n",
    "yPred=clfrbf.predict(xPred)\n",
    "\n",
    "print(\"Yexact=\",yExact)\n",
    "print(\"Ypred=\",yPred)\n",
    "\n",
    "# The mean squared error\n",
    "print('Mean squared error: %.2f' % mean_squared_error(yExact, yPred))\n",
    "# The coefficient of determination: 1 is perfect prediction\n",
    "print('Coefficient of determination: %.2f' % r2_score(yExact, yPred))\n",
    "# Plot outputs\n",
    "plt.scatter(x, y,  color='black')\n",
    "plt.plot(xPred, yExact,  color='black',linewidth=1)\n",
    "plt.plot(xPred, yPred,   color='red'  ,linewidth=1)\n",
    "\n",
    "plt.axis([-8,8,-1,2])\n",
    "plt.xticks([-8,-7,-6,-5,-4,-3,-2,-1,0,1,2,3,4,5,6,7,8])\n",
    "plt.yticks([-1,-0.5,0,0.5,1.0,1.5,2.0])\n",
    "plt.xlabel(\"feature x\")\n",
    "plt.ylabel(\"target y\")\n",
    "\n",
    "plt.show()"
   ]
  },
  {
   "cell_type": "code",
   "execution_count": null,
   "metadata": {},
   "outputs": [],
   "source": []
  },
  {
   "cell_type": "code",
   "execution_count": null,
   "metadata": {},
   "outputs": [],
   "source": []
  },
  {
   "cell_type": "code",
   "execution_count": null,
   "metadata": {},
   "outputs": [],
   "source": []
  }
 ],
 "metadata": {
  "kernelspec": {
   "display_name": "Python 3",
   "language": "python",
   "name": "python3"
  },
  "language_info": {
   "codemirror_mode": {
    "name": "ipython",
    "version": 3
   },
   "file_extension": ".py",
   "mimetype": "text/x-python",
   "name": "python",
   "nbconvert_exporter": "python",
   "pygments_lexer": "ipython3",
   "version": "3.7.7"
  }
 },
 "nbformat": 4,
 "nbformat_minor": 4
}
